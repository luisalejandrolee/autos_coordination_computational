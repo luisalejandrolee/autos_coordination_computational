{
 "cells": [
  {
   "cell_type": "markdown",
   "metadata": {},
   "source": [
    "#Main file\n",
    "This main file is based on the scripts that I had for minimizing the machines from Netlogo. The original was made to capture output from Behaviour Space, processs the machines and then print it to use in Stata. This is too cumbersome, so decided to implement and do everything in Python so I can centralise all the analysis and work on the next algorithms such as Joint Machines, frequencies and unused behavioural states in order to analyse properly how the transitions are happening."
   ]
  },
  {
   "cell_type": "markdown",
   "metadata": {},
   "source": [
    "#1 Receiving the Netlogo output\n",
    "The first step is to load the files. Also, from the name of the file, save as variables the Global variables used for that output."
   ]
  },
  {
   "cell_type": "code",
   "execution_count": 1,
   "metadata": {
    "collapsed": false
   },
   "outputs": [],
   "source": [
    "import pandas as pd\n",
    "import numpy as np\n",
    "import copy\n",
    "import minimization as minz #My script in same folder for minimization routines\n",
    "\n",
    "#Choose here the Globals and Name used for the experiment to load.\n",
    "#Make sure the files exist (i.e. from Netlogo simulations)\n",
    "experiment_clue = \"trial\"\n",
    "n_states = 4\n",
    "n_signals = 0\n",
    "n_rounds = 5\n",
    "N = 40\n",
    "n_parents = 20\n",
    "\n",
    "globals_list = (experiment_clue, n_states, n_signals, n_rounds, N, n_parents) #Save them as a list\n",
    "\n",
    "#Experiment name based on the chosen experiment_clue and globals\n",
    "chosen_experiment = \"%s_states_%s_signal_%s_rounds_%s_N_%s_parents_%s.txt\" % globals_list\n",
    "\n",
    "#Both files have to use the same \"chosen experiment\" (to make sure come from the same simulation in Netlogo)\n",
    "summary_file_name = \"summary_\" + chosen_experiment #Summary output\n",
    "strategies_file_name = \"strategies_\" + chosen_experiment #Strategies output\n",
    "\n",
    "#Path to Netlogo outputs\n",
    "netlogo_folder = \"/Users/luisalejandrolee/Desktop/\\\n",
    "autos_coordination_computational.git/netlogo_part/outputs/\" #Netlogo outputs in this folder\n",
    "\n",
    "#Read files and save them as data\n",
    "summary_data = pd.read_csv(netlogo_folder + summary_file_name)\n",
    "strategies_data = pd.read_csv(netlogo_folder + strategies_file_name)"
   ]
  },
  {
   "cell_type": "markdown",
   "metadata": {
    "collapsed": true
   },
   "source": [
    "#2 Minimise the automata\n",
    "Use the functions to have a simple code here for minimising the auto and storing other relevant variables (as available states, etc)"
   ]
  },
  {
   "cell_type": "code",
   "execution_count": 5,
   "metadata": {
    "collapsed": false
   },
   "outputs": [],
   "source": [
    "#Other required globals\n",
    "n_obs = 2 if n_signals == 0 else 4 #Define here (or change) the possible observations of the machines\n",
    "\n",
    "#Minimise the machines. Uses algorithgm from \"minimization\" module\n",
    "for netlogo_auto in strategies_data.auto_long: #For each auto (in Netlogo format)\n",
    "    \n",
    "    big_auto = minz.to_format_netlogo_auto(netlogo_auto) #Use function to convert the raw Netlogo auto in a list format\n",
    "    init_state = big_auto[0] #Save initial state of the machine\n",
    "    normal_auto = minz.new_empty_auto(n_obs, n_states) #Use function to create a new empty auto as a numpy array\n",
    "\n",
    "    # Next block it to fill the new 'normal_auto' with the information from big_auto.\n",
    "    # The objective is that normal_auto=big_auto but as an array (instead of a list)\n",
    "    my_index = xrange(1, len(big_auto), n_obs + 1) # Each number in the index is where a state starts\n",
    "    for i, j in enumerate(my_index):\n",
    "        normal_auto['actions'][i] = big_auto[j]\n",
    "        normal_auto['transitions'][i] = big_auto[j + 1:j + n_obs + 1]\n",
    "        \n",
    "    canon_auto = minz.convert_to_canonical(normal_auto, n_states, init_state, n_obs) #Use function for canonical form\n",
    "    \n",
    "    access_states = len(canon_auto) #n_states now is only the accesible states of the machine (before minimization)\n",
    "    \n",
    "    #Use function to get minimum behavioural equivalent auto\n",
    "    #Passes \"0\" as 3rd argument because that's init_state now (always for canonincal auto)\n",
    "    min_auto = minz.minimized_automaton(canon_auto, access_states, 0, n_obs)\n",
    "    \n",
    "    #print (\"raw auto = \", netlogo_auto)\n",
    "    #print (\"cleaned auto = \", big_auto)\n",
    "    #print (\"array auto = \", normal_auto)\n",
    "    #print (\"canon auto = \", canon_auto)\n",
    "    #print (\"min auto = \", min_auto)\n"
   ]
  },
  {
   "cell_type": "code",
   "execution_count": null,
   "metadata": {
    "collapsed": false
   },
   "outputs": [],
   "source": []
  },
  {
   "cell_type": "code",
   "execution_count": null,
   "metadata": {
    "collapsed": true
   },
   "outputs": [],
   "source": []
  },
  {
   "cell_type": "code",
   "execution_count": 19,
   "metadata": {
    "collapsed": false
   },
   "outputs": [],
   "source": [
    "        min_auto = minimized_automaton() # Now minimize the auto\n",
    "        #print 'min_auto = ', min_auto\n",
    "        \n",
    "        print_auto = np.array_str(min_auto) # The min_auto is passed as a string (not an array) for easy printing\n",
    "        \n",
    "        print_auto = print_auto.replace('[','') # Make the string less cluttered\n",
    "        print_auto = print_auto.replace(']','')\n",
    "        print_auto = print_auto.replace(\"'\",'')\n",
    "        print_auto = print_auto.replace(',',' ')\n",
    "        print_auto = print_auto.replace('\\n', '')\n",
    "        #print 'print_auto = ', print_auto\n",
    "        \n",
    "        data.loc[ix, label] = print_auto # Print the minimized auto as a string into the dataframe\n",
    "        \n",
    "sorted_df = data.sort(['run_number', 'generation']) #Sort the data\n",
    "\n",
    "\n",
    "\n"
   ]
  }
 ],
 "metadata": {
  "kernelspec": {
   "display_name": "Python 2",
   "language": "python",
   "name": "python2"
  },
  "language_info": {
   "codemirror_mode": {
    "name": "ipython",
    "version": 2
   },
   "file_extension": ".py",
   "mimetype": "text/x-python",
   "name": "python",
   "nbconvert_exporter": "python",
   "pygments_lexer": "ipython2",
   "version": "2.7.10"
  }
 },
 "nbformat": 4,
 "nbformat_minor": 0
}
