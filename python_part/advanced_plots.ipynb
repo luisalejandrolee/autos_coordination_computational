{
 "cells": [
  {
   "cell_type": "code",
   "execution_count": 1,
   "metadata": {
    "collapsed": true
   },
   "outputs": [],
   "source": [
    "import pandas as pd\n",
    "import numpy as np\n",
    "import copy\n",
    "import random\n",
    "import math\n",
    "from __future__ import division\n",
    "from __future__ import with_statement\n",
    "import minimization as minz #My script in same folder for minimization routines\n",
    "import matplotlib.pyplot as plt\n",
    "from scipy import stats\n",
    "%matplotlib inline"
   ]
  },
  {
   "cell_type": "markdown",
   "metadata": {},
   "source": [
    "Import all data available (very useful for any other plot)"
   ]
  },
  {
   "cell_type": "code",
   "execution_count": 2,
   "metadata": {
    "collapsed": false,
    "scrolled": true
   },
   "outputs": [
    {
     "data": {
      "text/plain": [
       "50"
      ]
     },
     "execution_count": 2,
     "metadata": {},
     "output_type": "execute_result"
    }
   ],
   "source": [
    "n_rounds = 50\n",
    "n_parents = 20\n",
    "\n",
    "#Treatments and runs have to be the same lenght (one list per treatment)\n",
    "n_signals_list = [0,0,1,1,0] #corresponding to each treatment in treatments (keep same order)\n",
    "n_states_list = [8,8,8,8,8]\n",
    "N_list = [40,40,40,40,40]\n",
    "treatments = ['nosignal','nosignalsuperlong','signalce','signalcesuperlong','70to72k_nosignalsuperlong'] #outputmodifier+clue\n",
    "runs = [[1,2,3,4,5,6],[1,2],[1,2,3,4,5],[1,2],[1,2]] #runs for each treatment. Each list has the runs to include for the corresponding treatment\\\n",
    "                         #(in same order as 'treatments')\n",
    "info = {'summary':'summ','epochs_av':'ep', 'epochs_jm':'epj', 'jm':'jmachines'} #a shorter name for each type of data\n",
    "\n",
    "\n",
    "folder = \"/Users/luisalejandrolee/Dropbox/Thesis Phd/\\\n",
    "Coordination autos Chapter three/outputs_from_python/\" #Python (minimization) outputs in this folder\n",
    "\n",
    "folder_figs = \"/Users/luisalejandrolee/Dropbox/Thesis Phd/\\\n",
    "Coordination autos Chapter three/outputs_from_python/\" #To save figures\n",
    "\n",
    "def import_epochs_epochsjm_jointmachines_summary(treatments, runs, info, folder,\\\n",
    "                                    n_states , n_signals, n_rounds, N, n_parents):\n",
    "    \n",
    "    data = {} #dictionary will contain all dataframes imported\n",
    "    for pos,treatment in enumerate(treatments): #all treatments\n",
    "        n_signals = n_signals_list[pos]\n",
    "        n_states = n_states_list[pos]\n",
    "        N = N_list[pos]\n",
    "        for run in runs[pos]: #runs per treatment\n",
    "            clue= treatment+str(run) #runs\n",
    "            for info_name, info_variable in info.iteritems():#example: infoname=epochs_av, info_variable=ep\n",
    "                \n",
    "                inf = (info_name, clue, n_states , n_signals, n_rounds, N, n_parents)\n",
    "                try:\n",
    "                    import_file = folder+'%s_%s_states_%s_signal_%s_rounds_%s_N_%s_parents_%s.txt'%inf\n",
    "                    #print import_file\n",
    "                    df = pd.read_csv(import_file)\n",
    "                    df = df.drop('Unnamed: 0',1)\n",
    "                    data['%s%s_%s'%(treatments[pos], run, info_variable)] = df #add to dataframe to data dictionary\n",
    "\n",
    "                    #print '%s%s_%s imported\\n'%(treatments[pos], run, info_variable)\n",
    "                except IOError:\n",
    "                    pass\n",
    "                    #print '%s%s_%s NOT FOUND. (File: %s\\n'%(treatments[pos], run, info_variable, import_file)\n",
    "    return data\n",
    "\n",
    "data = import_epochs_epochsjm_jointmachines_summary(treatments, runs, info,\\\n",
    "                                                    folder, n_states_list , n_signals_list, n_rounds, N_list, n_parents)\n",
    "len(data)"
   ]
  },
  {
   "cell_type": "markdown",
   "metadata": {},
   "source": [
    "#Total epochs and Frequency\n",
    "Wrangle data for total epoch frequency "
   ]
  },
  {
   "cell_type": "code",
   "execution_count": 3,
   "metadata": {
    "collapsed": false
   },
   "outputs": [],
   "source": [
    "#For panel 1\n",
    "var = ['nosignalsuperlong2','signalcesuperlong2']\n",
    "treatment_names = ['No Signal','Signal']\n",
    "total_category = 'Total Epochs'\n",
    "\n",
    "#Next loop saves in 'series' a list for each var. The latter contains (100,000 or the length of the run) dummies\n",
    "#with 1 in position i, if generation i was an epoch change (zero otherwise)\n",
    "\n",
    "series=[None]*len(var) #to store time series\n",
    "for i,v in enumerate(var): #all vars selected\n",
    "    name_sum='%s_summ'%v #name for retrieving imported data as data[name].Summ for summary\n",
    "    name_ep='%s_ep'%v #ep for epochs\n",
    "    \n",
    "    ends = list(data[name_ep].end) #generations where an epoch ended\n",
    "    length=len(data[name_sum].index) #length of one run\n",
    "    \n",
    "    dummy_ends = [1 if gen in ends else 0 for gen in xrange(1,length+1)] #1 if in that generation an epoch ends\n",
    "    series[i]=dummy_ends #save in series list\n",
    "\n",
    "#Concatenate series corresponding to each treatment, and store them in dataframe\n",
    "df = pd.DataFrame({treatment_names[0]: series[0], treatment_names[1]: series[1]})\n",
    "\n",
    "#Counts is main variable to plot\n",
    "counts = df.mean()*len(df) #means*total gens (to show total number of epoch changes instead of very low percentages)\n",
    "\n",
    "#Some arragements to count (which is a series). I prefer the plot as a dataframe, for aesthetic reasons.\n",
    "counts_df = pd.DataFrame(counts).transpose() #index as columns\n",
    "counts_df.index = [total_category]\n",
    "\n",
    "#Confidence intervals\n",
    "ci = stats.sem(df)*len(df) #get confidence interval at 95% assuming normal distribution\n",
    "\n",
    "#Some arragements to count (which is a series). I prefer the plot as a dataframe, for aesthetic reasons.\n",
    "ci_df = pd.DataFrame(ci).transpose() #index as columns\n",
    "ci_df.index = [total_category]\n",
    "ci_df.columns = [df.columns]\n"
   ]
  },
  {
   "cell_type": "markdown",
   "metadata": {},
   "source": [
    "Wrangle data for frequency per regime"
   ]
  },
  {
   "cell_type": "code",
   "execution_count": 4,
   "metadata": {
    "collapsed": false,
    "scrolled": true
   },
   "outputs": [],
   "source": [
    "#For panel 2\n",
    "\n",
    "#Organise data frame for frequency of epochs\n",
    "#Two blocks of data, one for no signal(e.g. treatment 1) and the other for signal (e.g. treatment 2)\n",
    "#Here is two runs per treatment. If wanna use only one run, replace one data with =[None]\n",
    "\n",
    "ns =data['nosignalsuperlong2_ep'] #ns2=[None] to use only one data set (for reusability of code later)\n",
    "s = data['signalcesuperlong2_ep']\n",
    "\n",
    "title = 'Frequency of Epochs, Signal vs. No Signal\\n2 runs of 100,000 generations per treatment'\n",
    "panel1title='Frequency Percentage'\n",
    "panel2title='Total Epoch changes'\n",
    "\n",
    "######################################\n",
    "\n",
    "#Have statistics by Domination and Biased, irrespective of whether is one population or the other dominating\n",
    "ns.epoch = ['Domination' if x=='Domination_AA' or x=='Domination_BB' else\n",
    "           ('Biased_Turn' if x=='Biased_Turn_A' or x=='Biased_Turn_B' else x)\n",
    "           for x in ns.epoch[:]]\n",
    "\n",
    "s.epoch = ['Domination' if x=='Domination_AA' or x=='Domination_BB' else\n",
    "           ('Biased_Turn' if x=='Biased_Turn_A' or x=='Biased_Turn_B' else x)\n",
    "           for x in s.epoch[:]]\n"
   ]
  },
  {
   "cell_type": "code",
   "execution_count": 5,
   "metadata": {
    "collapsed": true
   },
   "outputs": [],
   "source": [
    "\n",
    "dum_ns = pd.get_dummies(ns['epoch']) #Dummies dataframe (categories are the regimes). One df per treatment\n",
    "dum_s = pd.get_dummies(s['epoch'])\n",
    "\n",
    "mean_ns = dum_ns.mean() #Mean of the dummies is what is plotted (i.e. percentage of each category)\n",
    "mean_s = dum_s.mean()\n",
    "\n",
    "ci_ns = stats.sem(dum_ns) #Standard error of the mean. For error bars\n",
    "ci_s = stats.sem(dum_s)\n",
    "\n",
    "means = pd.DataFrame({'No Signal': mean_ns, 'Signal': mean_s})#Get means in a single dataframe for easy plotting\n",
    "ci = pd.DataFrame({'No Signal':ci_ns, 'Signal':ci_s})#get confidence interval in a single dataframe\n",
    "\n",
    "ci.index=means.index[:] #very rough way to have the index for ci. Could be done better. Means and ci must have\n",
    "                        #same index and in the same order at this point, so they correspond accordingly."
   ]
  },
  {
   "cell_type": "code",
   "execution_count": 6,
   "metadata": {
    "collapsed": false
   },
   "outputs": [
    {
     "data": {
      "text/plain": [
       "<matplotlib.axes._subplots.AxesSubplot at 0x10db9a550>"
      ]
     },
     "execution_count": 6,
     "metadata": {},
     "output_type": "execute_result"
    },
    {
     "data": {
      "image/png": "[encoded data removed]",
      "text/plain": [
       "<matplotlib.figure.Figure at 0x107c1d410>"
      ]
     },
     "metadata": {},
     "output_type": "display_data"
    }
   ],
   "source": [
    "title = 'Frequency of Epochs, Signal vs. No Signal\\n2 very long runs per treatment'\n",
    "panel1title='Total Epoch changes (out of 200,000 generations)'\n",
    "panel2title='Frequency Percentage'\n",
    "\n",
    "#Define plots\n",
    "fig=plt.figure()\n",
    "fig.suptitle(title,fontsize=20)\n",
    "plt.subplots_adjust(top=0.8)\n",
    "fig.set_size_inches(15, 5) #size of the whole figure\n",
    "ax1=plt.subplot(121)\n",
    "plt.title(panel1title)\n",
    "ax2=plt.subplot(122)\n",
    "plt.title(panel2title)\n",
    "\n",
    "counts_df.plot(kind='bar',yerr=ci_df,ax=ax1)#sorted means are plotted\n",
    "means.drop('Other').sort('No Signal', ascending=False).plot(kind='bar',yerr=ci,ax=ax2)#sorted means are plotted\n",
    "\n",
    "\n"
   ]
  },
  {
   "cell_type": "markdown",
   "metadata": {},
   "source": [
    "#Length of Epochs"
   ]
  },
  {
   "cell_type": "code",
   "execution_count": 7,
   "metadata": {
    "collapsed": false
   },
   "outputs": [
    {
     "data": {
      "text/plain": [
       "(0, 2020)"
      ]
     },
     "execution_count": 7,
     "metadata": {},
     "output_type": "execute_result"
    },
    {
     "data": {
      "image/png": "[encoded data removed]",
      "text/plain": [
       "<matplotlib.figure.Figure at 0x107c06990>"
      ]
     },
     "metadata": {},
     "output_type": "display_data"
    }
   ],
   "source": [
    "#Organise data frame for frequency of epochs\n",
    "#Two blocks of data, one for no signal(e.g. treatment 1) and the other for signal (e.g. treatment 2)\n",
    "#Here is two runs per treatment. If wanna use only one run, replace one data with =[None]\n",
    "\n",
    "data = import_epochs_epochsjm_jointmachines_summary(treatments, runs, info,\\\n",
    "                                                    folder, n_states_list , n_signals_list, n_rounds, N_list, n_parents)\n",
    "\n",
    "ns=data['nosignalsuperlong2_ep'] \n",
    "s = data['signalcesuperlong2_ep']\n",
    "\n",
    "title = 'Length of Epochs per Regime\\n2 runs of 100,000 generations per treatment'\n",
    "\n",
    "\n",
    "######################################\n",
    "\n",
    "#ns = ns1.append(ns2, ignore_index=True).drop(['start','end'],1) #Append datasets for the same treatment, dropping some columns\n",
    "ns.epoch = ['Domination' if x=='Domination_AA' or x=='Domination_BB' else\n",
    "           ('Biased_Turn' if x=='Biased_Turn_A' or x=='Biased_Turn_B' else x)\n",
    "           for x in ns.epoch[:]]\n",
    "#s = s1.append(s2, ignore_index=True)\n",
    "s.epoch = ['Domination' if x=='Domination_AA' or x=='Domination_BB' else\n",
    "           ('Biased_Turn' if x=='Biased_Turn_A' or x=='Biased_Turn_B' else x)\n",
    "           for x in s.epoch[:]]\n",
    "\n",
    "#All this plot is the same as the one for frequencies percentages. The difference is next block:\n",
    "#Instead of 'pivoting' the table to have a dummy for each category (as .get_dummy() does), here I use\n",
    "#a normal pivoting to keep the values of 'duration'.\n",
    "ns_p = pd.pivot_table(ns, index=ns.index, columns='epoch',values='duration').drop('Other',1)\n",
    "s_p = pd.pivot_table(s, index=s.index, columns='epoch',values='duration').drop('Other',1)\n",
    "#Replace NaN values with zero to calculate means\n",
    "ns_p=ns_p.fillna(0)\n",
    "s_p=s_p.fillna(0)\n",
    "#######\n",
    "\n",
    "mean_ns = ns_p.mean()\n",
    "mean_s = s_p.mean()\n",
    "\n",
    "ci_ns = stats.sem(ns_p)\n",
    "ci_s = stats.sem(s_p)\n",
    "\n",
    "means = pd.DataFrame({'No Signal': mean_ns, 'Signal': mean_s})\n",
    "ci = pd.DataFrame({'No Signal':ci_ns, 'Signal':ci_s})#get confidence interval in a single dataframe\n",
    "ci.index=means.index[:]\n",
    "\n",
    "#Define plots\n",
    "fig=plt.figure()\n",
    "fig.suptitle(title,fontsize=20)\n",
    "plt.subplots_adjust(top=0.8)\n",
    "fig.set_size_inches(8, 5) #size of the whole figure\n",
    "ax1=plt.subplot(111)\n",
    "means.sort('No Signal').plot(kind='barh',xerr=ci,ax=ax1)#sorted means are plotted\n",
    "ax1.set_xlim([0,2020])"
   ]
  },
  {
   "cell_type": "markdown",
   "metadata": {
    "collapsed": true
   },
   "source": [
    "#CE Measure"
   ]
  },
  {
   "cell_type": "code",
   "execution_count": 8,
   "metadata": {
    "collapsed": false
   },
   "outputs": [],
   "source": [
    "#Can only use the second super long run because the first one has a bug: name 'ce' is ' ce' (I think \n",
    "#that's the bug, but couldn't trace it down). So would have to run\n",
    "#one new simulation (superlong) to have two sims. One should do fine\n",
    "\n",
    "data = import_epochs_epochsjm_jointmachines_summary(treatments, runs, info,\\\n",
    "                                                    folder, n_states_list , n_signals_list, n_rounds, N_list, n_parents)\n",
    "\n",
    "summ =data['signalcesuperlong2_summ'] \n",
    "ep = data['signalcesuperlong2_ep']\n",
    "\n",
    "#Add the 'ce' column to epochs dataframe, containing the average CE for that particular epoch\n",
    "ce_list = []\n",
    "for i in ep.index[:]:\n",
    "    start = int(ep['start'][i])\n",
    "    end = int(ep['end'][i])\n",
    "    ce_range = summ['ce'][start:end]\n",
    "    ce_list.append(ce_range.mean())\n",
    "ep['ce'] = ce_list\n",
    "\n",
    "#\"see\", or filter to observe how many turntaking were there, with their corresponding ce measure\n",
    "#go and run a couple of gens for those epochs to get the joint machines"
   ]
  },
  {
   "cell_type": "code",
   "execution_count": 11,
   "metadata": {
    "collapsed": false
   },
   "outputs": [
    {
     "data": {
      "text/html": [
       "<div>\n",
       "<table border=\"1\" class=\"dataframe\">\n",
       "  <thead>\n",
       "    <tr style=\"text-align: right;\">\n",
       "      <th></th>\n",
       "      <th>epoch</th>\n",
       "      <th>duration</th>\n",
       "      <th>start</th>\n",
       "      <th>end</th>\n",
       "      <th>ce</th>\n",
       "    </tr>\n",
       "  </thead>\n",
       "  <tbody>\n",
       "    <tr>\n",
       "      <th>4</th>\n",
       "      <td>Biased_Turn_A</td>\n",
       "      <td>25617</td>\n",
       "      <td>2774</td>\n",
       "      <td>28391</td>\n",
       "      <td>0.112274</td>\n",
       "    </tr>\n",
       "    <tr>\n",
       "      <th>14</th>\n",
       "      <td>Biased_Turn_B</td>\n",
       "      <td>2762</td>\n",
       "      <td>37080</td>\n",
       "      <td>39842</td>\n",
       "      <td>0.233776</td>\n",
       "    </tr>\n",
       "    <tr>\n",
       "      <th>16</th>\n",
       "      <td>Biased_Turn_B</td>\n",
       "      <td>9590</td>\n",
       "      <td>44621</td>\n",
       "      <td>54211</td>\n",
       "      <td>0.405229</td>\n",
       "    </tr>\n",
       "    <tr>\n",
       "      <th>18</th>\n",
       "      <td>Turn_Taking</td>\n",
       "      <td>936</td>\n",
       "      <td>58637</td>\n",
       "      <td>59573</td>\n",
       "      <td>0.124782</td>\n",
       "    </tr>\n",
       "    <tr>\n",
       "      <th>20</th>\n",
       "      <td>Turn_Taking</td>\n",
       "      <td>5326</td>\n",
       "      <td>60856</td>\n",
       "      <td>66182</td>\n",
       "      <td>0.125341</td>\n",
       "    </tr>\n",
       "    <tr>\n",
       "      <th>25</th>\n",
       "      <td>Turn_Taking</td>\n",
       "      <td>7336</td>\n",
       "      <td>70877</td>\n",
       "      <td>78213</td>\n",
       "      <td>0.884996</td>\n",
       "    </tr>\n",
       "    <tr>\n",
       "      <th>27</th>\n",
       "      <td>Turn_Taking</td>\n",
       "      <td>8733</td>\n",
       "      <td>78556</td>\n",
       "      <td>87289</td>\n",
       "      <td>0.853684</td>\n",
       "    </tr>\n",
       "    <tr>\n",
       "      <th>34</th>\n",
       "      <td>Biased_Turn_A</td>\n",
       "      <td>4936</td>\n",
       "      <td>95064</td>\n",
       "      <td>100000</td>\n",
       "      <td>0.401399</td>\n",
       "    </tr>\n",
       "  </tbody>\n",
       "</table>\n",
       "</div>"
      ],
      "text/plain": [
       "            epoch  duration  start     end        ce\n",
       "4   Biased_Turn_A     25617   2774   28391  0.112274\n",
       "14  Biased_Turn_B      2762  37080   39842  0.233776\n",
       "16  Biased_Turn_B      9590  44621   54211  0.405229\n",
       "18    Turn_Taking       936  58637   59573  0.124782\n",
       "20    Turn_Taking      5326  60856   66182  0.125341\n",
       "25    Turn_Taking      7336  70877   78213  0.884996\n",
       "27    Turn_Taking      8733  78556   87289  0.853684\n",
       "34  Biased_Turn_A      4936  95064  100000  0.401399"
      ]
     },
     "execution_count": 11,
     "metadata": {},
     "output_type": "execute_result"
    }
   ],
   "source": [
    "ep[(ep.epoch!='Domination_AA') & (ep.epoch!='Domination_BB') & (ep.epoch!='Other')]"
   ]
  },
  {
   "cell_type": "code",
   "execution_count": 21,
   "metadata": {
    "collapsed": false
   },
   "outputs": [
    {
     "data": {
      "text/html": [
       "<div>\n",
       "<table border=\"1\" class=\"dataframe\">\n",
       "  <thead>\n",
       "    <tr style=\"text-align: right;\">\n",
       "      <th></th>\n",
       "      <th>epoch</th>\n",
       "      <th>duration</th>\n",
       "      <th>start</th>\n",
       "      <th>end</th>\n",
       "      <th>ce</th>\n",
       "    </tr>\n",
       "  </thead>\n",
       "  <tbody>\n",
       "    <tr>\n",
       "      <th>0</th>\n",
       "      <td>Domination_BB</td>\n",
       "      <td>1128</td>\n",
       "      <td>13</td>\n",
       "      <td>1141</td>\n",
       "      <td>0.001572</td>\n",
       "    </tr>\n",
       "    <tr>\n",
       "      <th>1</th>\n",
       "      <td>Domination_BB</td>\n",
       "      <td>28</td>\n",
       "      <td>1152</td>\n",
       "      <td>1180</td>\n",
       "      <td>0.025903</td>\n",
       "    </tr>\n",
       "    <tr>\n",
       "      <th>2</th>\n",
       "      <td>Domination_BB</td>\n",
       "      <td>1550</td>\n",
       "      <td>1191</td>\n",
       "      <td>2741</td>\n",
       "      <td>0.000858</td>\n",
       "    </tr>\n",
       "    <tr>\n",
       "      <th>3</th>\n",
       "      <td>Other</td>\n",
       "      <td>17</td>\n",
       "      <td>2750</td>\n",
       "      <td>2767</td>\n",
       "      <td>0.081688</td>\n",
       "    </tr>\n",
       "    <tr>\n",
       "      <th>4</th>\n",
       "      <td>Biased_Turn_A</td>\n",
       "      <td>25617</td>\n",
       "      <td>2774</td>\n",
       "      <td>28391</td>\n",
       "      <td>0.112274</td>\n",
       "    </tr>\n",
       "    <tr>\n",
       "      <th>5</th>\n",
       "      <td>Domination_BB</td>\n",
       "      <td>57</td>\n",
       "      <td>28406</td>\n",
       "      <td>28463</td>\n",
       "      <td>0.005440</td>\n",
       "    </tr>\n",
       "    <tr>\n",
       "      <th>6</th>\n",
       "      <td>Domination_AA</td>\n",
       "      <td>178</td>\n",
       "      <td>28476</td>\n",
       "      <td>28654</td>\n",
       "      <td>0.001988</td>\n",
       "    </tr>\n",
       "    <tr>\n",
       "      <th>7</th>\n",
       "      <td>Domination_BB</td>\n",
       "      <td>115</td>\n",
       "      <td>28666</td>\n",
       "      <td>28781</td>\n",
       "      <td>0.001209</td>\n",
       "    </tr>\n",
       "    <tr>\n",
       "      <th>8</th>\n",
       "      <td>Domination_AA</td>\n",
       "      <td>22</td>\n",
       "      <td>28790</td>\n",
       "      <td>28812</td>\n",
       "      <td>0.002914</td>\n",
       "    </tr>\n",
       "    <tr>\n",
       "      <th>9</th>\n",
       "      <td>Domination_BB</td>\n",
       "      <td>35</td>\n",
       "      <td>28821</td>\n",
       "      <td>28856</td>\n",
       "      <td>0.002748</td>\n",
       "    </tr>\n",
       "    <tr>\n",
       "      <th>10</th>\n",
       "      <td>Domination_AA</td>\n",
       "      <td>2514</td>\n",
       "      <td>28865</td>\n",
       "      <td>31379</td>\n",
       "      <td>0.001432</td>\n",
       "    </tr>\n",
       "    <tr>\n",
       "      <th>11</th>\n",
       "      <td>Domination_BB</td>\n",
       "      <td>584</td>\n",
       "      <td>31388</td>\n",
       "      <td>31972</td>\n",
       "      <td>0.002318</td>\n",
       "    </tr>\n",
       "    <tr>\n",
       "      <th>12</th>\n",
       "      <td>Domination_AA</td>\n",
       "      <td>3623</td>\n",
       "      <td>31981</td>\n",
       "      <td>35604</td>\n",
       "      <td>0.001364</td>\n",
       "    </tr>\n",
       "    <tr>\n",
       "      <th>13</th>\n",
       "      <td>Domination_BB</td>\n",
       "      <td>1455</td>\n",
       "      <td>35617</td>\n",
       "      <td>37072</td>\n",
       "      <td>0.001152</td>\n",
       "    </tr>\n",
       "    <tr>\n",
       "      <th>14</th>\n",
       "      <td>Biased_Turn_B</td>\n",
       "      <td>2762</td>\n",
       "      <td>37080</td>\n",
       "      <td>39842</td>\n",
       "      <td>0.233776</td>\n",
       "    </tr>\n",
       "    <tr>\n",
       "      <th>15</th>\n",
       "      <td>Domination_BB</td>\n",
       "      <td>4763</td>\n",
       "      <td>39850</td>\n",
       "      <td>44613</td>\n",
       "      <td>0.000854</td>\n",
       "    </tr>\n",
       "    <tr>\n",
       "      <th>16</th>\n",
       "      <td>Biased_Turn_B</td>\n",
       "      <td>9590</td>\n",
       "      <td>44621</td>\n",
       "      <td>54211</td>\n",
       "      <td>0.405229</td>\n",
       "    </tr>\n",
       "    <tr>\n",
       "      <th>17</th>\n",
       "      <td>Domination_AA</td>\n",
       "      <td>4405</td>\n",
       "      <td>54220</td>\n",
       "      <td>58625</td>\n",
       "      <td>0.002224</td>\n",
       "    </tr>\n",
       "    <tr>\n",
       "      <th>18</th>\n",
       "      <td>Turn_Taking</td>\n",
       "      <td>936</td>\n",
       "      <td>58637</td>\n",
       "      <td>59573</td>\n",
       "      <td>0.124782</td>\n",
       "    </tr>\n",
       "    <tr>\n",
       "      <th>19</th>\n",
       "      <td>Domination_AA</td>\n",
       "      <td>1267</td>\n",
       "      <td>59581</td>\n",
       "      <td>60848</td>\n",
       "      <td>0.001364</td>\n",
       "    </tr>\n",
       "    <tr>\n",
       "      <th>20</th>\n",
       "      <td>Turn_Taking</td>\n",
       "      <td>5326</td>\n",
       "      <td>60856</td>\n",
       "      <td>66182</td>\n",
       "      <td>0.125341</td>\n",
       "    </tr>\n",
       "    <tr>\n",
       "      <th>21</th>\n",
       "      <td>Domination_AA</td>\n",
       "      <td>829</td>\n",
       "      <td>66190</td>\n",
       "      <td>67019</td>\n",
       "      <td>0.000636</td>\n",
       "    </tr>\n",
       "    <tr>\n",
       "      <th>22</th>\n",
       "      <td>Domination_BB</td>\n",
       "      <td>541</td>\n",
       "      <td>67028</td>\n",
       "      <td>67569</td>\n",
       "      <td>0.008911</td>\n",
       "    </tr>\n",
       "    <tr>\n",
       "      <th>23</th>\n",
       "      <td>Domination_AA</td>\n",
       "      <td>832</td>\n",
       "      <td>67582</td>\n",
       "      <td>68414</td>\n",
       "      <td>0.000584</td>\n",
       "    </tr>\n",
       "    <tr>\n",
       "      <th>24</th>\n",
       "      <td>Domination_BB</td>\n",
       "      <td>2442</td>\n",
       "      <td>68423</td>\n",
       "      <td>70865</td>\n",
       "      <td>0.002135</td>\n",
       "    </tr>\n",
       "    <tr>\n",
       "      <th>25</th>\n",
       "      <td>Turn_Taking</td>\n",
       "      <td>7336</td>\n",
       "      <td>70877</td>\n",
       "      <td>78213</td>\n",
       "      <td>0.884996</td>\n",
       "    </tr>\n",
       "    <tr>\n",
       "      <th>26</th>\n",
       "      <td>Domination_BB</td>\n",
       "      <td>321</td>\n",
       "      <td>78223</td>\n",
       "      <td>78544</td>\n",
       "      <td>0.003770</td>\n",
       "    </tr>\n",
       "    <tr>\n",
       "      <th>27</th>\n",
       "      <td>Turn_Taking</td>\n",
       "      <td>8733</td>\n",
       "      <td>78556</td>\n",
       "      <td>87289</td>\n",
       "      <td>0.853684</td>\n",
       "    </tr>\n",
       "    <tr>\n",
       "      <th>28</th>\n",
       "      <td>Domination_AA</td>\n",
       "      <td>1023</td>\n",
       "      <td>87298</td>\n",
       "      <td>88321</td>\n",
       "      <td>0.006810</td>\n",
       "    </tr>\n",
       "    <tr>\n",
       "      <th>29</th>\n",
       "      <td>Domination_BB</td>\n",
       "      <td>598</td>\n",
       "      <td>88334</td>\n",
       "      <td>88932</td>\n",
       "      <td>0.000560</td>\n",
       "    </tr>\n",
       "    <tr>\n",
       "      <th>30</th>\n",
       "      <td>Domination_AA</td>\n",
       "      <td>2170</td>\n",
       "      <td>88945</td>\n",
       "      <td>91115</td>\n",
       "      <td>0.000976</td>\n",
       "    </tr>\n",
       "    <tr>\n",
       "      <th>31</th>\n",
       "      <td>Domination_BB</td>\n",
       "      <td>1000</td>\n",
       "      <td>91129</td>\n",
       "      <td>92129</td>\n",
       "      <td>0.001744</td>\n",
       "    </tr>\n",
       "    <tr>\n",
       "      <th>32</th>\n",
       "      <td>Domination_AA</td>\n",
       "      <td>1762</td>\n",
       "      <td>92140</td>\n",
       "      <td>93902</td>\n",
       "      <td>0.001473</td>\n",
       "    </tr>\n",
       "    <tr>\n",
       "      <th>33</th>\n",
       "      <td>Domination_BB</td>\n",
       "      <td>1138</td>\n",
       "      <td>93914</td>\n",
       "      <td>95052</td>\n",
       "      <td>0.000790</td>\n",
       "    </tr>\n",
       "    <tr>\n",
       "      <th>34</th>\n",
       "      <td>Biased_Turn_A</td>\n",
       "      <td>4936</td>\n",
       "      <td>95064</td>\n",
       "      <td>100000</td>\n",
       "      <td>0.401399</td>\n",
       "    </tr>\n",
       "  </tbody>\n",
       "</table>\n",
       "</div>"
      ],
      "text/plain": [
       "            epoch  duration  start     end        ce\n",
       "0   Domination_BB      1128     13    1141  0.001572\n",
       "1   Domination_BB        28   1152    1180  0.025903\n",
       "2   Domination_BB      1550   1191    2741  0.000858\n",
       "3           Other        17   2750    2767  0.081688\n",
       "4   Biased_Turn_A     25617   2774   28391  0.112274\n",
       "5   Domination_BB        57  28406   28463  0.005440\n",
       "6   Domination_AA       178  28476   28654  0.001988\n",
       "7   Domination_BB       115  28666   28781  0.001209\n",
       "8   Domination_AA        22  28790   28812  0.002914\n",
       "9   Domination_BB        35  28821   28856  0.002748\n",
       "10  Domination_AA      2514  28865   31379  0.001432\n",
       "11  Domination_BB       584  31388   31972  0.002318\n",
       "12  Domination_AA      3623  31981   35604  0.001364\n",
       "13  Domination_BB      1455  35617   37072  0.001152\n",
       "14  Biased_Turn_B      2762  37080   39842  0.233776\n",
       "15  Domination_BB      4763  39850   44613  0.000854\n",
       "16  Biased_Turn_B      9590  44621   54211  0.405229\n",
       "17  Domination_AA      4405  54220   58625  0.002224\n",
       "18    Turn_Taking       936  58637   59573  0.124782\n",
       "19  Domination_AA      1267  59581   60848  0.001364\n",
       "20    Turn_Taking      5326  60856   66182  0.125341\n",
       "21  Domination_AA       829  66190   67019  0.000636\n",
       "22  Domination_BB       541  67028   67569  0.008911\n",
       "23  Domination_AA       832  67582   68414  0.000584\n",
       "24  Domination_BB      2442  68423   70865  0.002135\n",
       "25    Turn_Taking      7336  70877   78213  0.884996\n",
       "26  Domination_BB       321  78223   78544  0.003770\n",
       "27    Turn_Taking      8733  78556   87289  0.853684\n",
       "28  Domination_AA      1023  87298   88321  0.006810\n",
       "29  Domination_BB       598  88334   88932  0.000560\n",
       "30  Domination_AA      2170  88945   91115  0.000976\n",
       "31  Domination_BB      1000  91129   92129  0.001744\n",
       "32  Domination_AA      1762  92140   93902  0.001473\n",
       "33  Domination_BB      1138  93914   95052  0.000790\n",
       "34  Biased_Turn_A      4936  95064  100000  0.401399"
      ]
     },
     "execution_count": 21,
     "metadata": {},
     "output_type": "execute_result"
    }
   ],
   "source": [
    "ep"
   ]
  },
  {
   "cell_type": "code",
   "execution_count": null,
   "metadata": {
    "collapsed": true
   },
   "outputs": [],
   "source": []
  },
  {
   "cell_type": "code",
   "execution_count": null,
   "metadata": {
    "collapsed": true
   },
   "outputs": [],
   "source": []
  },
  {
   "cell_type": "code",
   "execution_count": null,
   "metadata": {
    "collapsed": true
   },
   "outputs": [],
   "source": []
  },
  {
   "cell_type": "code",
   "execution_count": null,
   "metadata": {
    "collapsed": true
   },
   "outputs": [],
   "source": []
  },
  {
   "cell_type": "code",
   "execution_count": null,
   "metadata": {
    "collapsed": true
   },
   "outputs": [],
   "source": []
  },
  {
   "cell_type": "code",
   "execution_count": null,
   "metadata": {
    "collapsed": true
   },
   "outputs": [],
   "source": []
  },
  {
   "cell_type": "code",
   "execution_count": null,
   "metadata": {
    "collapsed": true
   },
   "outputs": [],
   "source": []
  },
  {
   "cell_type": "code",
   "execution_count": null,
   "metadata": {
    "collapsed": true
   },
   "outputs": [],
   "source": []
  },
  {
   "cell_type": "code",
   "execution_count": null,
   "metadata": {
    "collapsed": true
   },
   "outputs": [],
   "source": []
  },
  {
   "cell_type": "code",
   "execution_count": null,
   "metadata": {
    "collapsed": true
   },
   "outputs": [],
   "source": []
  },
  {
   "cell_type": "code",
   "execution_count": 9,
   "metadata": {
    "collapsed": false
   },
   "outputs": [
    {
     "data": {
      "image/png": "[encoded data removed]",
      "text/plain": [
       "<matplotlib.figure.Figure at 0x10cd4f9d0>"
      ]
     },
     "metadata": {},
     "output_type": "display_data"
    }
   ],
   "source": [
    "data['nosignal6_summ'][['coordination_A_perc','coordination_B_perc']].plot()\n",
    "h_values = data['nosignal6_ep']['end']\n",
    "for v in h_values:\n",
    "    plt.vlines(v,0,1,linewidth=3, color='r')"
   ]
  },
  {
   "cell_type": "code",
   "execution_count": null,
   "metadata": {
    "collapsed": true
   },
   "outputs": [],
   "source": [
    "#Useful lines (not part of the code, but just to copy easily)\n",
    "\n",
    "#Basic for a plot\n",
    "data=[3,2,10]\n",
    "fig,ax=plt.subplots(2,2,squeeze=False,sharex=True,sharey=Ture)\n",
    "ax[0][0].plot(data)\n",
    "ax[1][1].plot(data)\n",
    "plt.close()\n",
    "\n",
    "\n",
    "\n",
    "plt.vlines(x, ymin, ymax) #horizontal and vertical lines\n",
    "plt.hlines(y, xmin, xmax)\n",
    "\n",
    "#ax is the name of the plot. If used fig, axes = plt.subplot(2,2) to create several, they can be indexed\n",
    "ax.set_yscale('log') #some regularly useful 'set' functions\n",
    "ax.set_xlim([0,10])\n",
    "ax.set_xlabel('some label')\n",
    "\n",
    "fig.tight_layout() #avoids overlapping of axis ticks\n",
    "\n",
    "#small code for adding several vertical lines in a particular plot (first make the relevant figure to be current)\n",
    "h_values = [200, 300, 400]\n",
    "for v in h_values:\n",
    "    axes[0][0].vlines(v,0,3,linewidth=5, color='r')\n",
    "\n",
    "axes[0][0].set_title('5 Simulations, No signal')\n",
    "axes[0][0].set_xlabel('Generations')\n",
    "axes[0][0].set_ylabel('Average Payoffs')\n",
    "\n",
    "\n"
   ]
  }
 ],
 "metadata": {
  "kernelspec": {
   "display_name": "Python 2",
   "language": "python",
   "name": "python2"
  },
  "language_info": {
   "codemirror_mode": {
    "name": "ipython",
    "version": 2
   },
   "file_extension": ".py",
   "mimetype": "text/x-python",
   "name": "python",
   "nbconvert_exporter": "python",
   "pygments_lexer": "ipython2",
   "version": "2.7.10"
  }
 },
 "nbformat": 4,
 "nbformat_minor": 0
}
