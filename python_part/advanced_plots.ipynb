{
 "cells": [
  {
   "cell_type": "code",
   "execution_count": 1,
   "metadata": {
    "collapsed": true
   },
   "outputs": [],
   "source": [
    "import pandas as pd\n",
    "import numpy as np\n",
    "import copy\n",
    "import random\n",
    "import math\n",
    "from __future__ import division\n",
    "from __future__ import with_statement\n",
    "import minimization as minz #My script in same folder for minimization routines\n",
    "import matplotlib.pyplot as plt\n",
    "from scipy import stats\n",
    "%matplotlib inline"
   ]
  },
  {
   "cell_type": "markdown",
   "metadata": {},
   "source": [
    "Import all data available (very useful for any other plot)"
   ]
  },
  {
   "cell_type": "code",
   "execution_count": 3,
   "metadata": {
    "collapsed": false,
    "scrolled": true
   },
   "outputs": [
    {
     "name": "stdout",
     "output_type": "stream",
     "text": [
      "nosignal1_jmachines imported\n",
      "\n",
      "nosignal1_epj imported\n",
      "\n",
      "nosignal1_ep imported\n",
      "\n",
      "nosignal1_summ imported\n",
      "\n",
      "nosignal2_jmachines imported\n",
      "\n",
      "nosignal2_epj imported\n",
      "\n",
      "nosignal2_ep imported\n",
      "\n",
      "nosignal2_summ imported\n",
      "\n",
      "nosignal3_jmachines imported\n",
      "\n",
      "nosignal3_epj imported\n",
      "\n",
      "nosignal3_ep imported\n",
      "\n",
      "nosignal3_summ imported\n",
      "\n",
      "nosignal4_jmachines imported\n",
      "\n",
      "nosignal4_epj imported\n",
      "\n",
      "nosignal4_ep imported\n",
      "\n",
      "nosignal4_summ imported\n",
      "\n",
      "nosignal5_jmachines imported\n",
      "\n",
      "nosignal5_epj imported\n",
      "\n",
      "nosignal5_ep imported\n",
      "\n",
      "nosignal5_summ imported\n",
      "\n",
      "nosignal6_jmachines imported\n",
      "\n",
      "nosignal6_epj imported\n",
      "\n",
      "nosignal6_ep imported\n",
      "\n",
      "nosignal6_summ imported\n",
      "\n",
      "nosignalsuperlong1_jmachines NOT FOUND. (File: /Users/luisalejandrolee/Dropbox/Thesis Phd/Coordination autos Chapter three/outputs_from_python/jm_nosignalsuperlong1_states_8_signal_0_rounds_50_N_40_parents_20.txt\n",
      "\n",
      "nosignalsuperlong1_epj NOT FOUND. (File: /Users/luisalejandrolee/Dropbox/Thesis Phd/Coordination autos Chapter three/outputs_from_python/epochs_jm_nosignalsuperlong1_states_8_signal_0_rounds_50_N_40_parents_20.txt\n",
      "\n",
      "nosignalsuperlong1_ep imported\n",
      "\n",
      "nosignalsuperlong1_summ imported\n",
      "\n",
      "nosignalsuperlong2_jmachines NOT FOUND. (File: /Users/luisalejandrolee/Dropbox/Thesis Phd/Coordination autos Chapter three/outputs_from_python/jm_nosignalsuperlong2_states_8_signal_0_rounds_50_N_40_parents_20.txt\n",
      "\n",
      "nosignalsuperlong2_epj NOT FOUND. (File: /Users/luisalejandrolee/Dropbox/Thesis Phd/Coordination autos Chapter three/outputs_from_python/epochs_jm_nosignalsuperlong2_states_8_signal_0_rounds_50_N_40_parents_20.txt\n",
      "\n",
      "nosignalsuperlong2_ep imported\n",
      "\n",
      "nosignalsuperlong2_summ imported\n",
      "\n",
      "signalce1_jmachines NOT FOUND. (File: /Users/luisalejandrolee/Dropbox/Thesis Phd/Coordination autos Chapter three/outputs_from_python/jm_signalce1_states_8_signal_1_rounds_50_N_40_parents_20.txt\n",
      "\n",
      "signalce1_epj NOT FOUND. (File: /Users/luisalejandrolee/Dropbox/Thesis Phd/Coordination autos Chapter three/outputs_from_python/epochs_jm_signalce1_states_8_signal_1_rounds_50_N_40_parents_20.txt\n",
      "\n",
      "signalce1_ep imported\n",
      "\n",
      "signalce1_summ imported\n",
      "\n",
      "signalce2_jmachines NOT FOUND. (File: /Users/luisalejandrolee/Dropbox/Thesis Phd/Coordination autos Chapter three/outputs_from_python/jm_signalce2_states_8_signal_1_rounds_50_N_40_parents_20.txt\n",
      "\n",
      "signalce2_epj NOT FOUND. (File: /Users/luisalejandrolee/Dropbox/Thesis Phd/Coordination autos Chapter three/outputs_from_python/epochs_jm_signalce2_states_8_signal_1_rounds_50_N_40_parents_20.txt\n",
      "\n",
      "signalce2_ep imported\n",
      "\n",
      "signalce2_summ imported\n",
      "\n",
      "signalce3_jmachines NOT FOUND. (File: /Users/luisalejandrolee/Dropbox/Thesis Phd/Coordination autos Chapter three/outputs_from_python/jm_signalce3_states_8_signal_1_rounds_50_N_40_parents_20.txt\n",
      "\n",
      "signalce3_epj NOT FOUND. (File: /Users/luisalejandrolee/Dropbox/Thesis Phd/Coordination autos Chapter three/outputs_from_python/epochs_jm_signalce3_states_8_signal_1_rounds_50_N_40_parents_20.txt\n",
      "\n",
      "signalce3_ep imported\n",
      "\n",
      "signalce3_summ imported\n",
      "\n",
      "signalce4_jmachines NOT FOUND. (File: /Users/luisalejandrolee/Dropbox/Thesis Phd/Coordination autos Chapter three/outputs_from_python/jm_signalce4_states_8_signal_1_rounds_50_N_40_parents_20.txt\n",
      "\n",
      "signalce4_epj NOT FOUND. (File: /Users/luisalejandrolee/Dropbox/Thesis Phd/Coordination autos Chapter three/outputs_from_python/epochs_jm_signalce4_states_8_signal_1_rounds_50_N_40_parents_20.txt\n",
      "\n",
      "signalce4_ep imported\n",
      "\n",
      "signalce4_summ imported\n",
      "\n",
      "signalce5_jmachines NOT FOUND. (File: /Users/luisalejandrolee/Dropbox/Thesis Phd/Coordination autos Chapter three/outputs_from_python/jm_signalce5_states_8_signal_1_rounds_50_N_40_parents_20.txt\n",
      "\n",
      "signalce5_epj NOT FOUND. (File: /Users/luisalejandrolee/Dropbox/Thesis Phd/Coordination autos Chapter three/outputs_from_python/epochs_jm_signalce5_states_8_signal_1_rounds_50_N_40_parents_20.txt\n",
      "\n",
      "signalce5_ep imported\n",
      "\n",
      "signalce5_summ imported\n",
      "\n",
      "signalcesuperlong1_jmachines NOT FOUND. (File: /Users/luisalejandrolee/Dropbox/Thesis Phd/Coordination autos Chapter three/outputs_from_python/jm_signalcesuperlong1_states_8_signal_1_rounds_50_N_40_parents_20.txt\n",
      "\n",
      "signalcesuperlong1_epj NOT FOUND. (File: /Users/luisalejandrolee/Dropbox/Thesis Phd/Coordination autos Chapter three/outputs_from_python/epochs_jm_signalcesuperlong1_states_8_signal_1_rounds_50_N_40_parents_20.txt\n",
      "\n",
      "signalcesuperlong1_ep imported\n",
      "\n",
      "signalcesuperlong1_summ imported\n",
      "\n",
      "signalcesuperlong2_jmachines NOT FOUND. (File: /Users/luisalejandrolee/Dropbox/Thesis Phd/Coordination autos Chapter three/outputs_from_python/jm_signalcesuperlong2_states_8_signal_1_rounds_50_N_40_parents_20.txt\n",
      "\n",
      "signalcesuperlong2_epj NOT FOUND. (File: /Users/luisalejandrolee/Dropbox/Thesis Phd/Coordination autos Chapter three/outputs_from_python/epochs_jm_signalcesuperlong2_states_8_signal_1_rounds_50_N_40_parents_20.txt\n",
      "\n",
      "signalcesuperlong2_ep imported\n",
      "\n",
      "signalcesuperlong2_summ imported\n",
      "\n",
      "70to72k_nosignalsuperlong1_jmachines imported\n",
      "\n",
      "70to72k_nosignalsuperlong1_epj imported\n",
      "\n",
      "70to72k_nosignalsuperlong1_ep imported\n",
      "\n",
      "70to72k_nosignalsuperlong1_summ imported\n",
      "\n",
      "70to72k_nosignalsuperlong2_jmachines imported\n",
      "\n",
      "70to72k_nosignalsuperlong2_epj imported\n",
      "\n",
      "70to72k_nosignalsuperlong2_ep imported\n",
      "\n",
      "70to72k_nosignalsuperlong2_summ imported\n",
      "\n"
     ]
    },
    {
     "data": {
      "text/plain": [
       "50"
      ]
     },
     "execution_count": 3,
     "metadata": {},
     "output_type": "execute_result"
    }
   ],
   "source": [
    "n_rounds = 50\n",
    "n_parents = 20\n",
    "\n",
    "#Treatments and runs have to be the same lenght (one list per treatment)\n",
    "n_signals_list = [0,0,1,1,0] #corresponding to each treatment in treatments (keep same order)\n",
    "n_states_list = [8,8,8,8,8]\n",
    "N_list = [40,40,40,40,40]\n",
    "treatments = ['nosignal','nosignalsuperlong','signalce','signalcesuperlong','70to72k_nosignalsuperlong'] #outputmodifier+clue\n",
    "runs = [[1,2,3,4,5,6],[1,2],[1,2,3,4,5],[1,2],[1,2]] #runs for each treatment. Each list has the runs to include for the corresponding treatment\\\n",
    "                         #(in same order as 'treatments')\n",
    "info = {'summary':'summ','epochs_av':'ep', 'epochs_jm':'epj', 'jm':'jmachines'} #a shorter name for each type of data\n",
    "\n",
    "\n",
    "folder = \"/Users/luisalejandrolee/Dropbox/Thesis Phd/\\\n",
    "Coordination autos Chapter three/outputs_from_python/\" #Python (minimization) outputs in this folder\n",
    "\n",
    "def import_epochs_epochsjm_jointmachines_summary(treatments, runs, info, folder,\\\n",
    "                                    n_states , n_signals, n_rounds, N, n_parents):\n",
    "    \n",
    "    data = {} #dictionary will contain all dataframes imported\n",
    "    for pos,treatment in enumerate(treatments): #all treatments\n",
    "        n_signals = n_signals_list[pos]\n",
    "        n_states = n_states_list[pos]\n",
    "        N = N_list[pos]\n",
    "        for run in runs[pos]: #runs per treatment\n",
    "            clue= treatment+str(run) #runs\n",
    "            for info_name, info_variable in info.iteritems():#example: infoname=epochs_av, info_variable=ep\n",
    "                \n",
    "                inf = (info_name, clue, n_states , n_signals, n_rounds, N, n_parents)\n",
    "                try:\n",
    "                    import_file = folder+'%s_%s_states_%s_signal_%s_rounds_%s_N_%s_parents_%s.txt'%inf\n",
    "                    #print import_file\n",
    "                    df = pd.read_csv(import_file)\n",
    "                    df = df.drop('Unnamed: 0',1)\n",
    "                    data['%s%s_%s'%(treatments[pos], run, info_variable)] = df #add to dataframe to data dictionary\n",
    "\n",
    "                    print '%s%s_%s imported\\n'%(treatments[pos], run, info_variable)\n",
    "                except IOError:\n",
    "                    print '%s%s_%s NOT FOUND. (File: %s\\n'%(treatments[pos], run, info_variable, import_file)\n",
    "    return data\n",
    "\n",
    "data = import_epochs_epochsjm_jointmachines_summary(treatments, runs, info,\\\n",
    "                                                    folder, n_states_list , n_signals_list, n_rounds, N_list, n_parents)\n",
    "len(data)"
   ]
  },
  {
   "cell_type": "markdown",
   "metadata": {},
   "source": [
    "#Total epochs and Frequency\n",
    "Wrangle data for total epoch frequency "
   ]
  },
  {
   "cell_type": "code",
   "execution_count": 4,
   "metadata": {
    "collapsed": false
   },
   "outputs": [],
   "source": [
    "#For panel 1\n",
    "var = ['nosignalsuperlong1','nosignalsuperlong2','signalcesuperlong1','signalcesuperlong2']\n",
    "treatment_names = ['No Signal','Signal']\n",
    "total_category = 'Total Epochs'\n",
    "\n",
    "#####################\n",
    "series=[None]*len(var) #to store time series\n",
    "for i,v in enumerate(var): #all vars selected\n",
    "    name_sum='%s_summ'%v #name for retrieving imported data as data[name].Summ for summary\n",
    "    name_ep='%s_ep'%v #ep for epochs\n",
    "    \n",
    "    ends = list(data[name_ep].end) #generations where an epoch ended\n",
    "    length=len(data[name_sum].index) #length of one run\n",
    "    \n",
    "    dummy_ends = [1 if gen in ends else 0 for gen in xrange(1,length+1)] #1 if in that generation an epoch ends\n",
    "    series[i]=dummy_ends #save in series list\n",
    "\n",
    "#Concatenate series corresponding to each treatment, and store them in dataframe\n",
    "df = pd.DataFrame({treatment_names[0]: series[0]+series[1], treatment_names[1]: series[2]+series[3]})\n",
    "\n",
    "#Counts is main variable to plot\n",
    "counts = df.mean()*len(df) #means*total gens (to show total number of epoch changes instead of very low percentages)\n",
    "\n",
    "#Some arragements to count (which is a series). I prefer the plot as a dataframe, for aesthetic reasons.\n",
    "counts_df = pd.DataFrame(counts).transpose() #index as columns\n",
    "counts_df.index = [total_category]\n",
    "\n",
    "#Confidence intervals\n",
    "ci = stats.sem(df)*len(df) #get confidence interval at 95% assuming normal distribution\n",
    "\n",
    "#Some arragements to count (which is a series). I prefer the plot as a dataframe, for aesthetic reasons.\n",
    "ci_df = pd.DataFrame(ci).transpose() #index as columns\n",
    "ci_df.index = [total_category]\n",
    "ci_df.columns = [df.columns]"
   ]
  },
  {
   "cell_type": "markdown",
   "metadata": {},
   "source": [
    "Wrangle data for frequency per regime"
   ]
  },
  {
   "cell_type": "code",
   "execution_count": 5,
   "metadata": {
    "collapsed": false,
    "scrolled": true
   },
   "outputs": [],
   "source": [
    "#For panel 2\n",
    "\n",
    "#Organise data frame for frequency of epochs\n",
    "#Two blocks of data, one for no signal(e.g. treatment 1) and the other for signal (e.g. treatment 2)\n",
    "#Here is two runs per treatment. If wanna use only one run, replace one data with =[None]\n",
    "ns1=data['nosignalsuperlong1_ep'] \n",
    "ns2=data['nosignalsuperlong2_ep'] #ns2=[None] to use only one data set (for reusability of code later)\n",
    "\n",
    "s1 = data['signalcesuperlong1_ep']\n",
    "s2 = data['signalcesuperlong2_ep']\n",
    "\n",
    "title = 'Frequency of Epochs, Signal vs. No Signal\\n2 runs of 100,000 generations per treatment'\n",
    "panel1title='Frequency Percentage'\n",
    "panel2title='Total Epoch changes'\n",
    "\n",
    "######################################\n",
    "\n",
    "ns = ns1.append(ns2, ignore_index=True) #Append datasets for the same treatment\n",
    "ns.epoch = ['Domination' if x=='Domination_AA' or x=='Domination_BB' else\n",
    "           ('Biased_Turn' if x=='Biased_Turn_A' or x=='Biased_Turn_B' else x)\n",
    "           for x in ns.epoch[:]]\n",
    "s = s1.append(s2, ignore_index=True)\n",
    "s.epoch = ['Domination' if x=='Domination_AA' or x=='Domination_BB' else\n",
    "           ('Biased_Turn' if x=='Biased_Turn_A' or x=='Biased_Turn_B' else x)\n",
    "           for x in s.epoch[:]]\n",
    "\n",
    "dum_ns = pd.get_dummies(ns['epoch']) #Dummies dataframe (categories are the regimes). One df per treatment\n",
    "dum_s = pd.get_dummies(s['epoch'])\n",
    "\n",
    "mean_ns = dum_ns.mean() #Mean of the dummies is what is plotted (i.e. percentage of each category)\n",
    "mean_s = dum_s.mean()\n",
    "\n",
    "ci_ns = stats.sem(dum_ns) #Standard error of the mean. For error bars\n",
    "ci_s = stats.sem(dum_s)\n",
    "\n",
    "means = pd.DataFrame({'No Signal': mean_ns, 'Signal': mean_s})#Get means in a single dataframe for easy plotting\n",
    "ci = pd.DataFrame({'No Signal':ci_ns, 'Signal':ci_s})#get confidence interval in a single dataframe\n",
    "\n",
    "ci.index=means.index[:] #very rough way to have the index for ci. Could be done better. Means and ci must have\n",
    "                        #same index and in the same order at this point, so they correspond accordingly."
   ]
  },
  {
   "cell_type": "code",
   "execution_count": 6,
   "metadata": {
    "collapsed": false
   },
   "outputs": [
    {
     "data": {
      "text/plain": [
       "<matplotlib.axes._subplots.AxesSubplot at 0x10c680290>"
      ]
     },
     "execution_count": 6,
     "metadata": {},
     "output_type": "execute_result"
    },
    {
     "data": {
      "image/png": "[encoded data removed]",
      "text/plain": [
       "<matplotlib.figure.Figure at 0x10c3276d0>"
      ]
     },
     "metadata": {},
     "output_type": "display_data"
    }
   ],
   "source": [
    "title = 'Frequency of Epochs, Signal vs. No Signal\\n2 very long runs per treatment'\n",
    "panel1title='Total Epoch changes (out of 200,000 generations)'\n",
    "panel2title='Frequency Percentage'\n",
    "\n",
    "#Define plots\n",
    "fig=plt.figure()\n",
    "fig.suptitle(title,fontsize=20)\n",
    "plt.subplots_adjust(top=0.8)\n",
    "fig.set_size_inches(15, 5) #size of the whole figure\n",
    "ax1=plt.subplot(121)\n",
    "plt.title(panel1title)\n",
    "ax2=plt.subplot(122)\n",
    "plt.title(panel2title)\n",
    "\n",
    "counts_df.plot(kind='bar',yerr=ci_df,ax=ax1)#sorted means are plotted\n",
    "means.sort('No Signal', ascending=False).plot(kind='bar',yerr=ci,ax=ax2)#sorted means are plotted\n",
    "\n",
    "\n"
   ]
  },
  {
   "cell_type": "markdown",
   "metadata": {},
   "source": [
    "#Length of Epochs"
   ]
  },
  {
   "cell_type": "code",
   "execution_count": 7,
   "metadata": {
    "collapsed": false
   },
   "outputs": [
    {
     "data": {
      "text/plain": [
       "<matplotlib.axes._subplots.AxesSubplot at 0x10d2cf710>"
      ]
     },
     "execution_count": 7,
     "metadata": {},
     "output_type": "execute_result"
    },
    {
     "data": {
      "image/png": "[encoded data removed]",
      "text/plain": [
       "<matplotlib.figure.Figure at 0x10c279990>"
      ]
     },
     "metadata": {},
     "output_type": "display_data"
    }
   ],
   "source": [
    "#Organise data frame for frequency of epochs\n",
    "#Two blocks of data, one for no signal(e.g. treatment 1) and the other for signal (e.g. treatment 2)\n",
    "#Here is two runs per treatment. If wanna use only one run, replace one data with =[None]\n",
    "ns1=data['nosignalsuperlong1_ep'] \n",
    "ns2=data['nosignalsuperlong2_ep'] #ns2=[None] to use only one data set (for reusability of code later)\n",
    "\n",
    "s1 = data['signalcesuperlong1_ep']\n",
    "s2 = data['signalcesuperlong2_ep']\n",
    "\n",
    "title = 'Length of Epochs per Regime\\n2 runs of 100,000 generations per treatment'\n",
    "\n",
    "\n",
    "######################################\n",
    "\n",
    "ns = ns1.append(ns2, ignore_index=True).drop(['start','end'],1) #Append datasets for the same treatment, dropping some columns\n",
    "ns.epoch = ['Domination' if x=='Domination_AA' or x=='Domination_BB' else\n",
    "           ('Biased_Turn' if x=='Biased_Turn_A' or x=='Biased_Turn_B' else x)\n",
    "           for x in ns.epoch[:]]\n",
    "s = s1.append(s2, ignore_index=True)\n",
    "s.epoch = ['Domination' if x=='Domination_AA' or x=='Domination_BB' else\n",
    "           ('Biased_Turn' if x=='Biased_Turn_A' or x=='Biased_Turn_B' else x)\n",
    "           for x in s.epoch[:]]\n",
    "\n",
    "#All this plot is the same as the one for frequencies percentages. The difference is next block:\n",
    "#Instead of 'pivoting' the table to have a dummy for each category (as .get_dummy() does), here I use\n",
    "#a normal pivoting to keep the values of 'duration'.\n",
    "ns_p = pd.pivot_table(ns, index=ns.index, columns='epoch',values='duration').drop('Other',1)\n",
    "s_p = pd.pivot_table(s, index=s.index, columns='epoch',values='duration').drop('Other',1)\n",
    "#Replace NaN values with zero to calculate means\n",
    "ns_p=ns_p.fillna(0)\n",
    "s_p=s_p.fillna(0)\n",
    "#######\n",
    "\n",
    "mean_ns = ns_p.mean()\n",
    "mean_s = s_p.mean()\n",
    "\n",
    "ci_ns = stats.sem(ns_p)\n",
    "ci_s = stats.sem(s_p)\n",
    "\n",
    "means = pd.DataFrame({'No Signal': mean_ns, 'Signal': mean_s})\n",
    "ci = pd.DataFrame({'No Signal':ci_ns, 'Signal':ci_s})#get confidence interval in a single dataframe\n",
    "ci.index=means.index[:]\n",
    "\n",
    "#Define plots\n",
    "fig=plt.figure()\n",
    "fig.suptitle(title,fontsize=20)\n",
    "plt.subplots_adjust(top=0.8)\n",
    "fig.set_size_inches(8, 5) #size of the whole figure\n",
    "ax1=plt.subplot(111)\n",
    "means.sort('No Signal').plot(kind='barh',xerr=ci,ax=ax1)#sorted means are plotted"
   ]
  },
  {
   "cell_type": "code",
   "execution_count": null,
   "metadata": {
    "collapsed": true
   },
   "outputs": [],
   "source": []
  },
  {
   "cell_type": "code",
   "execution_count": null,
   "metadata": {
    "collapsed": true
   },
   "outputs": [],
   "source": []
  },
  {
   "cell_type": "code",
   "execution_count": null,
   "metadata": {
    "collapsed": true
   },
   "outputs": [],
   "source": []
  },
  {
   "cell_type": "code",
   "execution_count": null,
   "metadata": {
    "collapsed": true
   },
   "outputs": [],
   "source": []
  },
  {
   "cell_type": "code",
   "execution_count": null,
   "metadata": {
    "collapsed": true
   },
   "outputs": [],
   "source": []
  },
  {
   "cell_type": "code",
   "execution_count": 8,
   "metadata": {
    "collapsed": false
   },
   "outputs": [
    {
     "data": {
      "image/png": "[encoded data removed]",
      "text/plain": [
       "<matplotlib.figure.Figure at 0x10cbe3dd0>"
      ]
     },
     "metadata": {},
     "output_type": "display_data"
    }
   ],
   "source": [
    "data['signalcesuperlong1_summ'][['av_score_row','av_score_col']][2500:13000].plot()\n",
    "h_values = data['signalcesuperlong1_ep']['end']\n",
    "for v in h_values:\n",
    "    plt.vlines(v,0,1,linewidth=3, color='r')"
   ]
  },
  {
   "cell_type": "code",
   "execution_count": null,
   "metadata": {
    "collapsed": true
   },
   "outputs": [],
   "source": []
  },
  {
   "cell_type": "code",
   "execution_count": null,
   "metadata": {
    "collapsed": true
   },
   "outputs": [],
   "source": []
  },
  {
   "cell_type": "code",
   "execution_count": null,
   "metadata": {
    "collapsed": true
   },
   "outputs": [],
   "source": []
  },
  {
   "cell_type": "code",
   "execution_count": null,
   "metadata": {
    "collapsed": true
   },
   "outputs": [],
   "source": []
  },
  {
   "cell_type": "code",
   "execution_count": null,
   "metadata": {
    "collapsed": true
   },
   "outputs": [],
   "source": []
  },
  {
   "cell_type": "code",
   "execution_count": 9,
   "metadata": {
    "collapsed": false
   },
   "outputs": [
    {
     "data": {
      "image/png": "[encoded data removed]",
      "text/plain": [
       "<matplotlib.figure.Figure at 0x10cd4f9d0>"
      ]
     },
     "metadata": {},
     "output_type": "display_data"
    }
   ],
   "source": [
    "data['nosignal6_summ'][['coordination_A_perc','coordination_B_perc']].plot()\n",
    "h_values = data['nosignal6_ep']['end']\n",
    "for v in h_values:\n",
    "    plt.vlines(v,0,1,linewidth=3, color='r')"
   ]
  },
  {
   "cell_type": "code",
   "execution_count": null,
   "metadata": {
    "collapsed": true
   },
   "outputs": [],
   "source": [
    "#Useful lines (not part of the code, but just to copy easily)\n",
    "\n",
    "#Basic for a plot\n",
    "data=[3,2,10]\n",
    "fig,ax=plt.subplots(2,2,squeeze=False,sharex=True,sharey=Ture)\n",
    "ax[0][0].plot(data)\n",
    "ax[1][1].plot(data)\n",
    "plt.close()\n",
    "\n",
    "\n",
    "\n",
    "plt.vlines(x, ymin, ymax) #horizontal and vertical lines\n",
    "plt.hlines(y, xmin, xmax)\n",
    "\n",
    "#ax is the name of the plot. If used fig, axes = plt.subplot(2,2) to create several, they can be indexed\n",
    "ax.set_yscale('log') #some regularly useful 'set' functions\n",
    "ax.set_xlim([0,10])\n",
    "ax.set_xlabel('some label')\n",
    "\n",
    "fig.tight_layout() #avoids overlapping of axis ticks\n",
    "\n",
    "#small code for adding several vertical lines in a particular plot (first make the relevant figure to be current)\n",
    "h_values = [200, 300, 400]\n",
    "for v in h_values:\n",
    "    axes[0][0].vlines(v,0,3,linewidth=5, color='r')\n",
    "\n",
    "axes[0][0].set_title('5 Simulations, No signal')\n",
    "axes[0][0].set_xlabel('Generations')\n",
    "axes[0][0].set_ylabel('Average Payoffs')\n",
    "\n",
    "\n"
   ]
  }
 ],
 "metadata": {
  "kernelspec": {
   "display_name": "Python 2",
   "language": "python",
   "name": "python2"
  },
  "language_info": {
   "codemirror_mode": {
    "name": "ipython",
    "version": 2
   },
   "file_extension": ".py",
   "mimetype": "text/x-python",
   "name": "python",
   "nbconvert_exporter": "python",
   "pygments_lexer": "ipython2",
   "version": "2.7.10"
  }
 },
 "nbformat": 4,
 "nbformat_minor": 0
}
